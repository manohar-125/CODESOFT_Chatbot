{
  "nbformat": 4,
  "nbformat_minor": 0,
  "metadata": {
    "colab": {
      "provenance": []
    },
    "kernelspec": {
      "name": "python3",
      "display_name": "Python 3"
    },
    "language_info": {
      "name": "python"
    }
  },
  "cells": [
    {
      "cell_type": "code",
      "execution_count": null,
      "metadata": {
        "colab": {
          "base_uri": "https://localhost:8080/"
        },
        "id": "9MK5xY_Y_3Sy",
        "outputId": "ac93200f-0560-48f7-9fa4-98431cf99bc7"
      },
      "outputs": [
        {
          "output_type": "stream",
          "name": "stdout",
          "text": [
            "🤖 Bot: Good morning! I'm CodSoftBot — your simple rule-based chatbot.\n",
            "Type 'exit' to end the conversation.\n",
            "\n",
            "👤 You: exit\n",
            "🤖 Bot: It was great chatting with you. Goodbye!\n"
          ]
        }
      ],
      "source": [
        "import re\n",
        "from datetime import datetime\n",
        "\n",
        "def get_time_greeting():\n",
        "    hour = datetime.now().hour\n",
        "    if 5 <= hour < 12:\n",
        "        return \"Good morning!\"\n",
        "    elif 12 <= hour < 17:\n",
        "        return \"Good afternoon!\"\n",
        "    elif 17 <= hour < 21:\n",
        "        return \"Good evening!\"\n",
        "    else:\n",
        "        return \"Hello!\"\n",
        "\n",
        "def rule_based_chatbot():\n",
        "    print(\"🤖 Bot:\", get_time_greeting(), \"I'm CodSoftBot — your simple rule-based chatbot.\")\n",
        "    print(\"Type 'exit' to end the conversation.\\n\")\n",
        "\n",
        "    while True:\n",
        "        user_input = input(\"👤 You: \").lower()\n",
        "\n",
        "        if user_input == \"exit\":\n",
        "            print(\"🤖 Bot: It was great chatting with you. Goodbye!\")\n",
        "            break\n",
        "\n",
        "        elif re.search(r\"\\b(hi|hello|hey)\\b\", user_input):\n",
        "            print(\"🤖 Bot: Hello! How can I help you today?\")\n",
        "\n",
        "        elif \"your name\" in user_input:\n",
        "            print(\"🤖 Bot: I’m CodSoftBot, your AI intern assistant 😄.\")\n",
        "\n",
        "        elif \"how are you\" in user_input:\n",
        "            print(\"🤖 Bot: I’m doing great! Thanks for asking. What about you?\")\n",
        "\n",
        "        elif \"time\" in user_input:\n",
        "            now = datetime.now().strftime(\"%H:%M:%S\")\n",
        "            print(f\"🕒 Bot: The current time is {now}\")\n",
        "\n",
        "        elif \"date\" in user_input:\n",
        "            today = datetime.now().strftime(\"%d-%m-%Y\")\n",
        "            print(f\"📅 Bot: Today’s date is {today}\")\n",
        "\n",
        "        elif \"help\" in user_input or \"can you do\" in user_input:\n",
        "            print(\"🤖 Bot: I can answer basic greetings, tell you the time/date, and respond politely!\")\n",
        "\n",
        "        elif \"bye\" in user_input:\n",
        "            print(\"🤖 Bot: Goodbye! Have a wonderful day 😊\")\n",
        "            break\n",
        "\n",
        "        else:\n",
        "            print(\"🤖 Bot: Hmm... I didn’t understand that. Try asking about my name, time, or say 'hello'.\")\n",
        "\n",
        "rule_based_chatbot()\n"
      ]
    }
  ]
}